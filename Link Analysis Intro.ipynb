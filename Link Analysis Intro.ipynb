{
 "cells": [
  {
   "cell_type": "markdown",
   "metadata": {
    "toc": "true"
   },
   "source": [
    " # Table of Contents\n",
    "<div class=\"toc\" style=\"margin-top: 1em;\"><ul class=\"toc-item\" id=\"toc-level0\"><li><span><a href=\"http://localhost:8888/notebooks/threatmetrix_clients/intro_link_analysis/Link%20Analysis%20Intro.ipynb#Simple-Contrived-Example\" data-toc-modified-id=\"Simple-Contrived-Example-1\"><span class=\"toc-item-num\">1&nbsp;&nbsp;</span>Simple Contrived Example</a></span><ul class=\"toc-item\"><li><span><a href=\"http://localhost:8888/notebooks/threatmetrix_clients/intro_link_analysis/Link%20Analysis%20Intro.ipynb#Saving-as-CSV\" data-toc-modified-id=\"Saving-as-CSV-1.1\"><span class=\"toc-item-num\">1.1&nbsp;&nbsp;</span>Saving as CSV</a></span></li><li><span><a href=\"http://localhost:8888/notebooks/threatmetrix_clients/intro_link_analysis/Link%20Analysis%20Intro.ipynb#Using-NetworkX\" data-toc-modified-id=\"Using-NetworkX-1.2\"><span class=\"toc-item-num\">1.2&nbsp;&nbsp;</span>Using NetworkX</a></span></li></ul></li></ul></div>"
   ]
  },
  {
   "cell_type": "code",
   "execution_count": 1,
   "metadata": {
    "ExecuteTime": {
     "end_time": "2018-04-12T13:31:28.654946Z",
     "start_time": "2018-04-12T13:31:26.367275Z"
    }
   },
   "outputs": [],
   "source": [
    "import networkx as nx\n",
    "import numpy as np\n",
    "import pandas as pd"
   ]
  },
  {
   "cell_type": "markdown",
   "metadata": {},
   "source": [
    "# Simple Contrived Example"
   ]
  },
  {
   "cell_type": "markdown",
   "metadata": {},
   "source": [
    "## Saving as CSV"
   ]
  },
  {
   "cell_type": "code",
   "execution_count": 2,
   "metadata": {
    "ExecuteTime": {
     "end_time": "2018-04-12T13:31:28.710995Z",
     "start_time": "2018-04-12T13:31:28.660865Z"
    }
   },
   "outputs": [],
   "source": [
    "# Creates DataFrames for nodes and edges\n",
    "nodes_df = pd.DataFrame({'Id': ['a_1', 'a_2', 'a_3', 'a_4', 'a_5', 'd_1', 'd_2'],\n",
    "                         'Label': ['a_1', 'a_2', 'a_3', 'a_4', 'a_5', 'd_1', 'd_2'],\n",
    "                         'Node Type': ['Non-Fraud', 'Fraud', 'Fraud', 'Non-Fraud', 'Non-Fraud', 'Smart ID', 'Smart ID']\n",
    "                        }\n",
    "                       )\n",
    "edges_df = pd.DataFrame({'Source': ['a_1', 'a_2', 'a_3', 'a_4', 'a_5'],\n",
    "                         'Target': ['d_1', 'd_1', 'd_1', 'd_2', 'd_2'],\n",
    "                         'Type': 'Undirected'\n",
    "                        }\n",
    "                       )"
   ]
  },
  {
   "cell_type": "code",
   "execution_count": 3,
   "metadata": {
    "ExecuteTime": {
     "end_time": "2018-04-12T13:31:28.922586Z",
     "start_time": "2018-04-12T13:31:28.716316Z"
    }
   },
   "outputs": [],
   "source": [
    "nodes_df.to_csv('test_example_nodes.csv', index=False)\n",
    "edges_df.to_csv('test_example_edges.csv', index=False)"
   ]
  },
  {
   "cell_type": "markdown",
   "metadata": {},
   "source": [
    "## Using NetworkX"
   ]
  },
  {
   "cell_type": "code",
   "execution_count": 4,
   "metadata": {
    "ExecuteTime": {
     "end_time": "2018-04-12T13:31:29.386191Z",
     "start_time": "2018-04-12T13:31:29.337177Z"
    }
   },
   "outputs": [],
   "source": [
    "# Initialize graph\n",
    "test_graph = nx.Graph()\n",
    "\n",
    "# Add nodes to the graph\n",
    "for i, row in nodes_df.iterrows():\n",
    "    test_graph.add_node(row['Id'], node_type=row['Node Type'])\n",
    "\n",
    "# Add edges to the graph\n",
    "for i, row in edges_df.iterrows():\n",
    "    test_graph.add_edge(row['Source'], row['Target'])   \n",
    "\n",
    "# Save the graph to a GEXF file\n",
    "nx.write_gexf(test_graph, 'test_example_graph.gexf')"
   ]
  }
 ],
 "metadata": {
  "kernelspec": {
   "display_name": "Python 2",
   "language": "python",
   "name": "python2"
  },
  "language_info": {
   "codemirror_mode": {
    "name": "ipython",
    "version": 2
   },
   "file_extension": ".py",
   "mimetype": "text/x-python",
   "name": "python",
   "nbconvert_exporter": "python",
   "pygments_lexer": "ipython2",
   "version": "2.7.14"
  },
  "toc": {
   "nav_menu": {},
   "number_sections": true,
   "sideBar": true,
   "skip_h1_title": false,
   "toc_cell": true,
   "toc_position": {},
   "toc_section_display": "block",
   "toc_window_display": true
  }
 },
 "nbformat": 4,
 "nbformat_minor": 2
}
